{
 "cells": [
  {
   "cell_type": "code",
   "execution_count": 1,
   "metadata": {
    "collapsed": false
   },
   "outputs": [],
   "source": [
    "from gensim.models import Word2Vec"
   ]
  },
  {
   "cell_type": "code",
   "execution_count": 2,
   "metadata": {
    "collapsed": false
   },
   "outputs": [],
   "source": [
    "import numpy as np\n",
    "from gensim.models import Word2Vec\n",
    "import pandas as pd\n",
    "from tqdm import tqdm\n",
    "import gensim\n",
    "import pymorphy2\n",
    "import functools as ft\n",
    "from tqdm import tqdm\n",
    "import string\n",
    "import re"
   ]
  },
  {
   "cell_type": "code",
   "execution_count": 3,
   "metadata": {
    "collapsed": true
   },
   "outputs": [],
   "source": [
    "def normalize_form(txt, morph):\n",
    "    p = [morph.parse(x)[0].normal_form for x in txt]\n",
    "    return p"
   ]
  },
  {
   "cell_type": "code",
   "execution_count": 4,
   "metadata": {
    "collapsed": true
   },
   "outputs": [],
   "source": [
    "def make_dict(x):\n",
    "    dict_rus = ' '.join(x)\n",
    "    translator = str.maketrans({key: ' ' for key in string.punctuation.replace('/', '').replace('-', '') + string.digits + '№'})\n",
    "    dict_rus = dict_rus.translate(translator).lower()\n",
    "    dict_rus_split = dict_rus.split()\n",
    "    return dict_rus_split"
   ]
  },
  {
   "cell_type": "code",
   "execution_count": 5,
   "metadata": {
    "collapsed": true
   },
   "outputs": [],
   "source": [
    "def avg_feature_vector(words, model, num_features):\n",
    "    featureVec = np.zeros((num_features,), dtype=\"float32\")\n",
    "    nwords = 0\n",
    "\n",
    "    for word in words:\n",
    "        nwords = nwords + 1\n",
    "        try:\n",
    "            featureVec = np.add(featureVec, model[word])\n",
    "        except KeyError:\n",
    "            featureVec = np.add(featureVec, np.zeros(num_features))\n",
    "\n",
    "    if (nwords > 0):\n",
    "        featureVec = np.divide(featureVec, nwords)\n",
    "    return featureVec"
   ]
  },
  {
   "cell_type": "code",
   "execution_count": 6,
   "metadata": {
    "collapsed": true
   },
   "outputs": [],
   "source": [
    "def words2vecs(arr, w2v, morth):\n",
    "    arr = list(map(lambda x: x.split(), arr))\n",
    "    arr = [normalize_form(make_dict(new), morth) for new in arr]\n",
    "    arr = [avg_feature_vector(sent, w2v, 300) for sent in list(arr)]\n",
    "    return arr"
   ]
  },
  {
   "cell_type": "code",
   "execution_count": 7,
   "metadata": {
    "collapsed": true
   },
   "outputs": [],
   "source": [
    "tab1 = pd.read_csv(\"FORMS/1.csv\")"
   ]
  },
  {
   "cell_type": "code",
   "execution_count": 8,
   "metadata": {
    "collapsed": false
   },
   "outputs": [],
   "source": [
    "tab1 = tab1.drop(\"Возраст\", axis=1)\n",
    "tab1 = tab1.drop(\"В каком городе вы живете?\", axis=1)\n",
    "tab1 = tab1.drop(\"Unnamed: 4\", axis=1)\n",
    "tab1 = tab1.drop(\"Unnamed: 5\", axis=1)\n",
    "tab1 = tab1.drop(\"А у вас есть вопросы? Задавайте.\", axis=1)\n",
    "tab1 = tab1.drop(\"Место обучения\", axis=1)\n",
    "tab1 = tab1.drop(\"Аккаунт в соцсетях и git\", axis=1)"
   ]
  },
  {
   "cell_type": "code",
   "execution_count": 9,
   "metadata": {
    "collapsed": false
   },
   "outputs": [
    {
     "data": {
      "text/html": [
       "<div>\n",
       "<style scoped>\n",
       "    .dataframe tbody tr th:only-of-type {\n",
       "        vertical-align: middle;\n",
       "    }\n",
       "\n",
       "    .dataframe tbody tr th {\n",
       "        vertical-align: top;\n",
       "    }\n",
       "\n",
       "    .dataframe thead th {\n",
       "        text-align: right;\n",
       "    }\n",
       "</style>\n",
       "<table border=\"1\" class=\"dataframe\">\n",
       "  <thead>\n",
       "    <tr style=\"text-align: right;\">\n",
       "      <th></th>\n",
       "      <th>Как вас зовут?</th>\n",
       "      <th>На какое направление хотели бы попасть? Какие интересны?</th>\n",
       "      <th>Какие языки программирования вы знаете? На каком уровне? Какие проекты вы реализовали? Расскажите о них кратко, указав ссылки на материалы, сайт или репозиторий при наличии.</th>\n",
       "      <th>Участвовали ли вы раньше в школах/олимпиадах/конкурсах/хакатонах? В каких? Расскажите о лучших результатах.</th>\n",
       "      <th>Какой проект вы хотели бы реализовать на школе? Есть ли у вас уже какие-то наработки?</th>\n",
       "    </tr>\n",
       "  </thead>\n",
       "  <tbody>\n",
       "    <tr>\n",
       "      <th>0</th>\n",
       "      <td>Суворов Данила Тимурович</td>\n",
       "      <td>Прикладное программирование (мобильные приложе...</td>\n",
       "      <td>Pascal, PHP</td>\n",
       "      <td>Нет</td>\n",
       "      <td>Мобильное приложение или игра для портативной ...</td>\n",
       "    </tr>\n",
       "  </tbody>\n",
       "</table>\n",
       "</div>"
      ],
      "text/plain": [
       "             Как вас зовут?  \\\n",
       "0  Суворов Данила Тимурович   \n",
       "\n",
       "  На какое направление хотели бы попасть? Какие интересны?  \\\n",
       "0  Прикладное программирование (мобильные приложе...         \n",
       "\n",
       "  Какие языки программирования вы знаете? На каком уровне? Какие проекты вы реализовали? Расскажите о них кратко, указав ссылки на материалы, сайт или репозиторий при наличии.   \\\n",
       "0                                        Pascal, PHP                                                                                                                               \n",
       "\n",
       "  Участвовали ли вы раньше в школах/олимпиадах/конкурсах/хакатонах? В каких? Расскажите о лучших результатах.  \\\n",
       "0                                                Нет                                                            \n",
       "\n",
       "  Какой проект вы хотели бы реализовать на школе? Есть ли у вас уже какие-то наработки?   \n",
       "0  Мобильное приложение или игра для портативной ...                                      "
      ]
     },
     "execution_count": 9,
     "metadata": {},
     "output_type": "execute_result"
    }
   ],
   "source": [
    "tab1.head(1)"
   ]
  },
  {
   "cell_type": "code",
   "execution_count": 10,
   "metadata": {
    "collapsed": true
   },
   "outputs": [],
   "source": [
    "tab2 = pd.read_csv(\"FORMS/2.csv\")"
   ]
  },
  {
   "cell_type": "code",
   "execution_count": 11,
   "metadata": {
    "collapsed": false
   },
   "outputs": [],
   "source": [
    "tab2 = tab2.drop(\"В каком городе вы живете?\", axis=1)\n",
    "tab2 = tab2.drop(\"В каком классе вы учитесь?\", axis=1)\n",
    "tab2 = tab2.drop(\"В какой школе вы учитесь?\", axis=1)\n",
    "tab2 = tab2.drop(\"Аккаунт в соцсетях\", axis=1)"
   ]
  },
  {
   "cell_type": "code",
   "execution_count": 12,
   "metadata": {
    "collapsed": false
   },
   "outputs": [
    {
     "data": {
      "text/html": [
       "<div>\n",
       "<style scoped>\n",
       "    .dataframe tbody tr th:only-of-type {\n",
       "        vertical-align: middle;\n",
       "    }\n",
       "\n",
       "    .dataframe tbody tr th {\n",
       "        vertical-align: top;\n",
       "    }\n",
       "\n",
       "    .dataframe thead th {\n",
       "        text-align: right;\n",
       "    }\n",
       "</style>\n",
       "<table border=\"1\" class=\"dataframe\">\n",
       "  <thead>\n",
       "    <tr style=\"text-align: right;\">\n",
       "      <th></th>\n",
       "      <th>Как вас зовут?</th>\n",
       "      <th>На какое направление хотели бы попасть? Какие интересны?</th>\n",
       "      <th>Какие языки программирования вы знаете? Какие проекты в области программирования, робототехники и в других смежных областях реализовали?</th>\n",
       "      <th>Участвовали ли вы раньше в школах/олимпиадах/конкурсах по программированию, математике и робототехнике? В каких?</th>\n",
       "      <th>Почему вы хотите принять участие?</th>\n",
       "    </tr>\n",
       "  </thead>\n",
       "  <tbody>\n",
       "    <tr>\n",
       "      <th>0</th>\n",
       "      <td>Москвина Ирина Вадимовна</td>\n",
       "      <td>Робототехника, Нейроинтерфейсы</td>\n",
       "      <td>с++ (немного), паскаль(немного)</td>\n",
       "      <td>олимпиады по математике</td>\n",
       "      <td>Интересуюсь электроникой и робототехникой. Пла...</td>\n",
       "    </tr>\n",
       "  </tbody>\n",
       "</table>\n",
       "</div>"
      ],
      "text/plain": [
       "             Как вас зовут?  \\\n",
       "0  Москвина Ирина Вадимовна   \n",
       "\n",
       "  На какое направление хотели бы попасть? Какие интересны?  \\\n",
       "0                     Робототехника, Нейроинтерфейсы         \n",
       "\n",
       "  Какие языки программирования вы знаете? Какие проекты в области программирования, робототехники и в других смежных областях реализовали?   \\\n",
       "0                    с++ (немного), паскаль(немного)                                                                                          \n",
       "\n",
       "  Участвовали ли вы раньше в школах/олимпиадах/конкурсах по программированию, математике и робототехнике? В каких?  \\\n",
       "0                            олимпиады по математике                                                                 \n",
       "\n",
       "                   Почему вы хотите принять участие?  \n",
       "0  Интересуюсь электроникой и робототехникой. Пла...  "
      ]
     },
     "execution_count": 12,
     "metadata": {},
     "output_type": "execute_result"
    }
   ],
   "source": [
    "tab2.head(1)"
   ]
  },
  {
   "cell_type": "code",
   "execution_count": 13,
   "metadata": {
    "collapsed": false
   },
   "outputs": [],
   "source": [
    "tab3 = pd.read_csv(\"FORMS/3.csv\")"
   ]
  },
  {
   "cell_type": "code",
   "execution_count": 14,
   "metadata": {
    "collapsed": true
   },
   "outputs": [],
   "source": [
    "tab3 = tab3.drop(\"Возраст\", axis=1)\n",
    "tab3 = tab3.drop(\"В каком городе вы живете?\", axis=1)\n",
    "tab3 = tab3.drop(\"Откуда вы узнали о нас?\", axis=1)\n",
    "tab3 = tab3.drop(\"Место обучения\", axis=1)\n",
    "tab3 = tab3.drop(\"Ссылка на аккаунт в соцсетях\", axis=1)"
   ]
  },
  {
   "cell_type": "code",
   "execution_count": 15,
   "metadata": {
    "collapsed": false
   },
   "outputs": [
    {
     "data": {
      "text/html": [
       "<div>\n",
       "<style scoped>\n",
       "    .dataframe tbody tr th:only-of-type {\n",
       "        vertical-align: middle;\n",
       "    }\n",
       "\n",
       "    .dataframe tbody tr th {\n",
       "        vertical-align: top;\n",
       "    }\n",
       "\n",
       "    .dataframe thead th {\n",
       "        text-align: right;\n",
       "    }\n",
       "</style>\n",
       "<table border=\"1\" class=\"dataframe\">\n",
       "  <thead>\n",
       "    <tr style=\"text-align: right;\">\n",
       "      <th></th>\n",
       "      <th>Как вас зовут?</th>\n",
       "      <th>На какое направление хотели бы попасть?</th>\n",
       "      <th>Какие языки программирования вы знаете? Какие проекты в области программирования, робототехники и в других смежных областях реализовали?</th>\n",
       "      <th>Участвовали ли вы раньше в школах/олимпиадах/конкурсах по программированию, математике и робототехнике? В каких?</th>\n",
       "      <th>Почему вы хотите принять участие?</th>\n",
       "    </tr>\n",
       "  </thead>\n",
       "  <tbody>\n",
       "    <tr>\n",
       "      <th>0</th>\n",
       "      <td>Пегов Петр Ильич</td>\n",
       "      <td>Прикладное программирование (мобильные приложе...</td>\n",
       "      <td>Си , планирую изучать python, пока что никаких...</td>\n",
       "      <td>Учавствовал ВСОШ по математике .</td>\n",
       "      <td>Есть большое желание углубить свои знания в пр...</td>\n",
       "    </tr>\n",
       "  </tbody>\n",
       "</table>\n",
       "</div>"
      ],
      "text/plain": [
       "     Как вас зовут?            На какое направление хотели бы попасть?  \\\n",
       "0  Пегов Петр Ильич  Прикладное программирование (мобильные приложе...   \n",
       "\n",
       "  Какие языки программирования вы знаете? Какие проекты в области программирования, робототехники и в других смежных областях реализовали?   \\\n",
       "0  Си , планирую изучать python, пока что никаких...                                                                                          \n",
       "\n",
       "  Участвовали ли вы раньше в школах/олимпиадах/конкурсах по программированию, математике и робототехнике? В каких?  \\\n",
       "0                   Учавствовал ВСОШ по математике .                                                                 \n",
       "\n",
       "                   Почему вы хотите принять участие?  \n",
       "0  Есть большое желание углубить свои знания в пр...  "
      ]
     },
     "execution_count": 15,
     "metadata": {},
     "output_type": "execute_result"
    }
   ],
   "source": [
    "tab3.head(1)"
   ]
  },
  {
   "cell_type": "code",
   "execution_count": 16,
   "metadata": {
    "collapsed": true
   },
   "outputs": [],
   "source": [
    "tab4 = pd.read_csv(\"FORMS/4.csv\")"
   ]
  },
  {
   "cell_type": "code",
   "execution_count": 17,
   "metadata": {
    "collapsed": false
   },
   "outputs": [],
   "source": [
    "tab4 = tab4.drop(\"Возраст\", axis=1)\n",
    "tab4 = tab4.drop(\"В каком городе вы живете?\", axis=1)\n",
    "tab4 = tab4.drop(\"Unnamed: 10\", axis=1)\n",
    "tab4 = tab4.drop(\"Unnamed: 11\", axis=1)\n",
    "tab4 = tab4.drop(\"Unnamed: 12\", axis=1)\n",
    "tab4 = tab4.drop(\"А у вас есть вопросы? Задавайте.\", axis=1)\n",
    "tab4 = tab4.drop(\"Место обучения, класс\", axis=1)\n",
    "tab4 = tab4.drop(\"Аккаунт в соцсетях, git\", axis=1)"
   ]
  },
  {
   "cell_type": "code",
   "execution_count": 18,
   "metadata": {
    "collapsed": false
   },
   "outputs": [
    {
     "data": {
      "text/html": [
       "<div>\n",
       "<style scoped>\n",
       "    .dataframe tbody tr th:only-of-type {\n",
       "        vertical-align: middle;\n",
       "    }\n",
       "\n",
       "    .dataframe tbody tr th {\n",
       "        vertical-align: top;\n",
       "    }\n",
       "\n",
       "    .dataframe thead th {\n",
       "        text-align: right;\n",
       "    }\n",
       "</style>\n",
       "<table border=\"1\" class=\"dataframe\">\n",
       "  <thead>\n",
       "    <tr style=\"text-align: right;\">\n",
       "      <th></th>\n",
       "      <th>Как вас зовут?</th>\n",
       "      <th>На какое направление хотели бы попасть? Какие интересны?</th>\n",
       "      <th>Какие языки программирования вы знаете? Какие проекты в области программирования, робототехники и в других смежных областях реализовали?</th>\n",
       "      <th>Участвовали ли вы раньше в школах/олимпиадах/конкурсах/хакатонах? В каких? Расскажите о лучших результатах.</th>\n",
       "      <th>Какой проект вы хотели бы реализовать на школе? Есть ли у вас уже какие-то наработки?</th>\n",
       "    </tr>\n",
       "  </thead>\n",
       "  <tbody>\n",
       "    <tr>\n",
       "      <th>0</th>\n",
       "      <td>Ригоев Иван Валерьевич</td>\n",
       "      <td>Направление для начинающих</td>\n",
       "      <td>java, pascal, c++</td>\n",
       "      <td>Хакатон intel, хакатон sailfish os</td>\n",
       "      <td>Я преподаю в кванториуме (школа доп образовани...</td>\n",
       "    </tr>\n",
       "  </tbody>\n",
       "</table>\n",
       "</div>"
      ],
      "text/plain": [
       "           Как вас зовут?  \\\n",
       "0  Ригоев Иван Валерьевич   \n",
       "\n",
       "  На какое направление хотели бы попасть? Какие интересны?  \\\n",
       "0                         Направление для начинающих         \n",
       "\n",
       "  Какие языки программирования вы знаете? Какие проекты в области программирования, робототехники и в других смежных областях реализовали?   \\\n",
       "0                                  java, pascal, c++                                                                                          \n",
       "\n",
       "  Участвовали ли вы раньше в школах/олимпиадах/конкурсах/хакатонах? В каких? Расскажите о лучших результатах.  \\\n",
       "0                 Хакатон intel, хакатон sailfish os                                                            \n",
       "\n",
       "  Какой проект вы хотели бы реализовать на школе? Есть ли у вас уже какие-то наработки?   \n",
       "0  Я преподаю в кванториуме (школа доп образовани...                                      "
      ]
     },
     "execution_count": 18,
     "metadata": {},
     "output_type": "execute_result"
    }
   ],
   "source": [
    "tab4.head(1)"
   ]
  },
  {
   "cell_type": "code",
   "execution_count": 19,
   "metadata": {
    "collapsed": true
   },
   "outputs": [],
   "source": [
    "tab5 = pd.read_csv(\"FORMS/5.csv\")"
   ]
  },
  {
   "cell_type": "code",
   "execution_count": 20,
   "metadata": {
    "collapsed": false
   },
   "outputs": [],
   "source": [
    "tab5 = tab5.drop(\"16\", axis=1)\n",
    "tab5 = tab5.drop(\"Друзья\", axis=1)\n",
    "tab5 = tab5.drop(\"https://vk.com/leleytner\", axis=1)\n",
    "tab5 = tab5.drop(\"ФТШ\", axis=1)\n",
    "tab5 = tab5.drop(\"Санкт-Петербург\", axis=1)"
   ]
  },
  {
   "cell_type": "code",
   "execution_count": 21,
   "metadata": {
    "collapsed": false
   },
   "outputs": [
    {
     "data": {
      "text/html": [
       "<div>\n",
       "<style scoped>\n",
       "    .dataframe tbody tr th:only-of-type {\n",
       "        vertical-align: middle;\n",
       "    }\n",
       "\n",
       "    .dataframe tbody tr th {\n",
       "        vertical-align: top;\n",
       "    }\n",
       "\n",
       "    .dataframe thead th {\n",
       "        text-align: right;\n",
       "    }\n",
       "</style>\n",
       "<table border=\"1\" class=\"dataframe\">\n",
       "  <thead>\n",
       "    <tr style=\"text-align: right;\">\n",
       "      <th></th>\n",
       "      <th>Лелейтнер Григорий Алексеевич</th>\n",
       "      <th>Анализ данных и машинное обучение</th>\n",
       "      <th>Python, C++, Javascript, Java. Я делал список покупок с синхронизацией через сервер, написанный на NodeJS, для андроида, прошел курс по машинному обучению на Udacity, делал простенькие сверточные нейросети для распознования MNIST и реализовываю разные алгоритмы машинного обучения на чистом питоне(с помощью видео Siraj'а из серии  Math of Intelligence на youtube)</th>\n",
       "      <th>Учавствовал в ВОШ по информатике и математике (занимал призера на региональном этапе по информатике), заниял призера 2 степени в олимпиаде СПБГУ по математике. Ходил на курс по робототехнике на ШМТБ.</th>\n",
       "      <th>Я бы хотел начать прменять знания, которые у меня уже есть в области машинного обучения и продолжить учится. В данный момент мне достаточно сложно взятся за нормальный проект, так как мне не хватает опыта для его реализация с нуля. Я надеюсь, что в школе мне помогут пройти этот начальный этап, и после я смогу реализовывать проекты в области машинного обучения уже самостоятельно.</th>\n",
       "    </tr>\n",
       "  </thead>\n",
       "  <tbody>\n",
       "    <tr>\n",
       "      <th>0</th>\n",
       "      <td>Тюльпакова Марина Анатольевна</td>\n",
       "      <td>Анализ данных и машинное обучение</td>\n",
       "      <td>С/С++,  начала питона, но я планирую подтянуть...</td>\n",
       "      <td>Да, в 3-х школах GoTo. \\nВ ЛОШ от мфти, ЛМШ. \\...</td>\n",
       "      <td>Каждая смена GoTo чем-то отличается от остальн...</td>\n",
       "    </tr>\n",
       "  </tbody>\n",
       "</table>\n",
       "</div>"
      ],
      "text/plain": [
       "    Лелейтнер Григорий Алексеевич  Анализ данных и машинное обучение  \\\n",
       "0  Тюльпакова Марина Анатольевна   Анализ данных и машинное обучение   \n",
       "\n",
       "  Python, C++, Javascript, Java. Я делал список покупок с синхронизацией через сервер, написанный на NodeJS, для андроида, прошел курс по машинному обучению на Udacity, делал простенькие сверточные нейросети для распознования MNIST и реализовываю разные алгоритмы машинного обучения на чистом питоне(с помощью видео Siraj'а из серии  Math of Intelligence на youtube)  \\\n",
       "0  С/С++,  начала питона, но я планирую подтянуть...                                                                                                                                                                                                                                                                                                                             \n",
       "\n",
       "  Учавствовал в ВОШ по информатике и математике (занимал призера на региональном этапе по информатике), заниял призера 2 степени в олимпиаде СПБГУ по математике. Ходил на курс по робототехнике на ШМТБ.  \\\n",
       "0  Да, в 3-х школах GoTo. \\nВ ЛОШ от мфти, ЛМШ. \\...                                                                                                                                                        \n",
       "\n",
       "  Я бы хотел начать прменять знания, которые у меня уже есть в области машинного обучения и продолжить учится. В данный момент мне достаточно сложно взятся за нормальный проект, так как мне не хватает опыта для его реализация с нуля. Я надеюсь, что в школе мне помогут пройти этот начальный этап, и после я смогу реализовывать проекты в области машинного обучения уже самостоятельно.  \n",
       "0  Каждая смена GoTo чем-то отличается от остальн...                                                                                                                                                                                                                                                                                                                                             "
      ]
     },
     "execution_count": 21,
     "metadata": {},
     "output_type": "execute_result"
    }
   ],
   "source": [
    "tab5.head(1)"
   ]
  },
  {
   "cell_type": "code",
   "execution_count": 22,
   "metadata": {
    "collapsed": true
   },
   "outputs": [],
   "source": [
    "names = list(tab1[\"Как вас зовут?\"]) + list(tab2[\"Как вас зовут?\"]) + list(tab3[\"Как вас зовут?\"]) + list(tab4[\"Как вас зовут?\"]) + list(tab5[\"Лелейтнер Григорий Алексеевич\"])"
   ]
  },
  {
   "cell_type": "code",
   "execution_count": 23,
   "metadata": {
    "collapsed": false
   },
   "outputs": [],
   "source": [
    "competitions = list(tab1[\"Участвовали ли вы раньше в школах/олимпиадах/конкурсах/хакатонах? В каких? Расскажите о лучших результатах.\"]) + \\\n",
    "list(tab2[\"Участвовали ли вы раньше в школах/олимпиадах/конкурсах по программированию, математике и робототехнике? В каких?\"]) + \\\n",
    "list(tab3[\"Участвовали ли вы раньше в школах/олимпиадах/конкурсах по программированию, математике и робототехнике? В каких?\"]) + \\\n",
    "list(tab4[\"Участвовали ли вы раньше в школах/олимпиадах/конкурсах/хакатонах? В каких? Расскажите о лучших результатах.\"]) + \\\n",
    "list(tab5[\"Учавствовал в ВОШ по информатике и математике (занимал призера на региональном этапе по информатике), заниял призера 2 степени в олимпиаде СПБГУ по математике. Ходил на курс по робототехнике на ШМТБ.\"])"
   ]
  },
  {
   "cell_type": "code",
   "execution_count": 24,
   "metadata": {
    "collapsed": false
   },
   "outputs": [],
   "source": [
    "projects = list(tab1[\"Какой проект вы хотели бы реализовать на школе? Есть ли у вас уже какие-то наработки? \"]) + \\\n",
    "list(tab2[\"Почему вы хотите принять участие?\"]) + \\\n",
    "list(tab3[\"Почему вы хотите принять участие?\"]) + \\\n",
    "list(tab4[\"Какой проект вы хотели бы реализовать на школе? Есть ли у вас уже какие-то наработки? \"]) + \\\n",
    "list(tab5[\"Я бы хотел начать прменять знания, которые у меня уже есть в области машинного обучения и продолжить учится. В данный момент мне достаточно сложно взятся за нормальный проект, так как мне не хватает опыта для его реализация с нуля. Я надеюсь, что в школе мне помогут пройти этот начальный этап, и после я смогу реализовывать проекты в области машинного обучения уже самостоятельно.\"])"
   ]
  },
  {
   "cell_type": "code",
   "execution_count": 25,
   "metadata": {
    "collapsed": false
   },
   "outputs": [],
   "source": [
    "langs = list(tab1[\"Какие языки программирования вы знаете? На каком уровне? Какие проекты вы реализовали? Расскажите о них кратко, указав ссылки на материалы, сайт или репозиторий при наличии. \"]) + \\\n",
    "list(tab2[\"Какие языки программирования вы знаете? Какие проекты в области программирования, робототехники и в других смежных областях реализовали? \"]) + \\\n",
    "list(tab3[\"Какие языки программирования вы знаете? Какие проекты в области программирования, робототехники и в других смежных областях реализовали? \"]) + \\\n",
    "list(tab4[\"Какие языки программирования вы знаете? Какие проекты в области программирования, робототехники и в других смежных областях реализовали? \"]) + \\\n",
    "list(tab5[\"Я бы хотел начать прменять знания, которые у меня уже есть в области машинного обучения и продолжить учится. В данный момент мне достаточно сложно взятся за нормальный проект, так как мне не хватает опыта для его реализация с нуля. Я надеюсь, что в школе мне помогут пройти этот начальный этап, и после я смогу реализовывать проекты в области машинного обучения уже самостоятельно.\"])"
   ]
  },
  {
   "cell_type": "code",
   "execution_count": 26,
   "metadata": {
    "collapsed": true
   },
   "outputs": [],
   "source": [
    "morph = pymorphy2.MorphAnalyzer()"
   ]
  },
  {
   "cell_type": "code",
   "execution_count": 27,
   "metadata": {
    "collapsed": true
   },
   "outputs": [],
   "source": [
    "w2v = Word2Vec.load(\"ru.bin\")"
   ]
  },
  {
   "cell_type": "code",
   "execution_count": 28,
   "metadata": {
    "collapsed": false
   },
   "outputs": [
    {
     "name": "stderr",
     "output_type": "stream",
     "text": [
      "  0%|          | 0/1151 [00:00<?, ?it/s]/home/anton/.local/lib/python3.6/site-packages/ipykernel_launcher.py:8: DeprecationWarning: Call to deprecated `__getitem__` (Method will be removed in 4.0.0, use self.wv.__getitem__() instead).\n",
      "  \n",
      "100%|██████████| 1151/1151 [00:23<00:00, 49.56it/s]\n"
     ]
    }
   ],
   "source": [
    "features = [words2vecs([str(competitions[i]) + str(projects[i]) + str(langs[i])], w2v, morph)[0] for i in tqdm(range(len(names)))]"
   ]
  },
  {
   "cell_type": "code",
   "execution_count": 29,
   "metadata": {
    "collapsed": true
   },
   "outputs": [],
   "source": [
    "y = list(tab1[\"На какое направление хотели бы попасть? Какие интересны?\"]) + \\\n",
    "list(tab2[\"На какое направление хотели бы попасть? Какие интересны?\"]) + \\\n",
    "list(tab3[\"На какое направление хотели бы попасть?\"]) + \\\n",
    "list(tab4[\"На какое направление хотели бы попасть? Какие интересны?\"]) + \\\n",
    "list(tab5[\"Анализ данных и машинное обучение\"])"
   ]
  },
  {
   "cell_type": "code",
   "execution_count": 30,
   "metadata": {
    "collapsed": false
   },
   "outputs": [],
   "source": [
    "def get_y(text):\n",
    "    text = text.lower()\n",
    "    if \"разработка\" in text or \"прикладное\" in text or \"приложение\" in text or \"гейм\" in text or \"ar\" in text or \"vr\" in text or \"web\" in text or \"кмб\" in text:\n",
    "        return 1\n",
    "    if \"анализ\" in text or \"машинное\" in text or \"обучение\" in text or \"искуственный\" in text or \"ад\" in text or \"биоинф\" in text or \"bioinf\" in text:\n",
    "        return 0\n",
    "    if \"распред\" in text or \"блокчейн\" in text or \"blockchain\" in text:\n",
    "        return 3\n",
    "    if \"робо\" in text:\n",
    "        return 2\n",
    "    \n",
    "    return -1"
   ]
  },
  {
   "cell_type": "code",
   "execution_count": 32,
   "metadata": {
    "collapsed": false
   },
   "outputs": [],
   "source": [
    "y = list(map(lambda x: get_y(str(x)), y))"
   ]
  },
  {
   "cell_type": "code",
   "execution_count": 33,
   "metadata": {
    "collapsed": false
   },
   "outputs": [],
   "source": [
    "f = []\n",
    "i = []\n",
    "o = []\n",
    "features_new = []\n",
    "class_new = []\n",
    "for idx in range(len(y)):\n",
    "    if y[idx] != -1:\n",
    "        s = names[idx].split()\n",
    "        if len(s) == 1:\n",
    "            s.extend([\" \", \" \"])\n",
    "        elif len(s) == 2:\n",
    "            s.extend([\" \"])\n",
    "        f.append(s[0])\n",
    "        i.append(s[1])\n",
    "        o.append(s[2])\n",
    "        features_new.append(features[idx])\n",
    "        class_new.append(y[idx])"
   ]
  },
  {
   "cell_type": "code",
   "execution_count": 34,
   "metadata": {
    "collapsed": true
   },
   "outputs": [],
   "source": [
    "df = pd.DataFrame()"
   ]
  },
  {
   "cell_type": "code",
   "execution_count": 35,
   "metadata": {
    "collapsed": false
   },
   "outputs": [],
   "source": [
    "df['f'] = f\n",
    "df['i'] = i\n",
    "df['o'] = o\n",
    "df['X'] = features_new\n",
    "df['y'] = class_new"
   ]
  },
  {
   "cell_type": "code",
   "execution_count": 36,
   "metadata": {
    "collapsed": false
   },
   "outputs": [],
   "source": [
    "df.to_csv(\"data.csv\")"
   ]
  }
 ],
 "metadata": {
  "kernelspec": {
   "display_name": "Python 3",
   "language": "python",
   "name": "python3"
  },
  "language_info": {
   "codemirror_mode": {
    "name": "ipython",
    "version": 3
   },
   "file_extension": ".py",
   "mimetype": "text/x-python",
   "name": "python",
   "nbconvert_exporter": "python",
   "pygments_lexer": "ipython3",
   "version": "3.6.3"
  }
 },
 "nbformat": 4,
 "nbformat_minor": 2
}
